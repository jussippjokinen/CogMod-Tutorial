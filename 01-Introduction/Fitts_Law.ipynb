{
 "cells": [
  {
   "attachments": {},
   "cell_type": "markdown",
   "id": "3e0c5f5d",
   "metadata": {},
   "source": [
    "[![Open In Colab](https://colab.research.google.com/assets/colab-badge.svg)](https://colab.research.google.com/github/jussippjokinen/CogMod-Tutorial/blob/main/01-Introduction/Fitts_Law.ipynb)\n"
   ]
  },  
  {
   "attachments": {},
   "cell_type": "markdown",
   "id": "b1800c71-8555-4ffa-b993-249b80cb0234",
   "metadata": {},
   "source": [
    "# Fitts' Law\n",
    "\n",
    "Fitts' law provides a quantitative relationship between movement time in human pointing and the design of the pointing task. This model is instrumental in HCI for evaluating and designing user interfaces by optimizing the time and effort needed for common tasks. In this notebook, we will explore the mathematical underpinnings of Fitts' Law, demonstrating its application in analyzing and enhancing UI efficiency. The learning outcomes of this notebook are:\n",
    "\n",
    "* understanding of how mathematical formulas can describe psychological phenomena; and\n",
    "* being able to apply Fitts' law to make predictions of various UI designs.\n",
    "\n",
    "## Origins of Fitts' Law\n",
    "\n",
    "Fitts' Law was formulated in 1954 by psychologist Paul Fitts, originating from his empirical research on human motor skills. His work, deeply rooted in the principles of information theory and cybernetics, sought to understand the control aspects of human movement, particularly in the context of aiming or pointing tasks. Fitts' experiments led to the realization that a logarithmic relationship exists between the speed and accuracy of movements, encapsulated as an equation (the *Fitts' Law*). This discovery was pivotal in linking human cognitive processes with quantifiable metrics, laying a foundation for subsequent research in ergonomics, human factors, and HCI. Fitts' Law stands as a landmark in the history of cognitive psychology and its application to real-world problems.\n",
    "\n",
    "The original experiment conducted by Paul Fitts involved a simple setup to study the relationship between movement speed and target accuracy. Participants were asked to perform a series of rapid, repetitive pointing tasks using a hand-held stylus. The task required them to move the stylus back and forth between two flat, rectangular targets as quickly and accurately as possible. These targets varied in width (W) and distance (D) from each other. By manipulating these two parameters, Fitts observed how the speed of movement was influenced by the difficulty of the task, which he quantified as the ratio of the distance to the width of the target. This setup provided empirical data that led to the formulation of Fitts' Law, highlighting the logarithmic relationship between the time taken to complete the movement and the difficulty of the task.\n",
    "\n",
    "<img src=\"https://gitlab.jyu.fi/jupepajo/rational-user/-/raw/main/modeling_notebooks/fitts_task.png\" width=\"400\" height=\"400\" align=\"center\"/>\n",
    "Figure 1: Illustration of the original Fitts' experiment. Two target rectangles of width W are placed distance D apart, and the participant is tasked with moving a stylus between the targets."
   ]
  },
  {
   "cell_type": "markdown",
   "id": "65536e12-2ed3-4ea6-ad97-297adcbcdfb8",
   "metadata": {},
   "source": [
    "# Definition\n",
    "\n",
    "Fitts' Law is typically represented by the equation\n",
    "\n",
    "$\n",
    "MT = a + b \\cdot \\log_2\\left(\\frac{D}{W} + 1\\right),\n",
    "$\n",
    "\n",
    "where:\n",
    "- $MT$ is the movement time, the time it takes for a user to move the pointer to the target;\n",
    "- $a$ and $b$ are empirically determined constants through linear regression;\n",
    "- $D$ is the distance from the starting point to the center of the target; and\n",
    "- $W$ is the width of the target.\n",
    "\n",
    "We can define this as a function."
   ]
  },
  {
   "cell_type": "code",
   "execution_count": null,
   "id": "20223e8d-9749-489d-aa43-6e6950f0d3dd",
   "metadata": {},
   "outputs": [],
   "source": [
    "import numpy as np\n",
    "\n",
    "def fitts_law(D, W, a, b):\n",
    "    \"\"\"\n",
    "    Calculate the movement time as per Fitts' Law.\n",
    "\n",
    "    Parameters:\n",
    "    D (float): Distance from the starting point to the center of the target.\n",
    "    W (float): Width of the target.\n",
    "    a, b (float): Empirically determined constants.\n",
    "\n",
    "    Returns:\n",
    "    float: Estimated movement time.\n",
    "    \"\"\"\n",
    "    ID = np.log2(D / W + 1)  # Index of Difficulty\n",
    "    MT = a + b * ID\n",
    "    return MT\n"
   ]
  },
  {
   "cell_type": "markdown",
   "id": "c1325bd7-66d0-4fbf-b138-197f7ad70785",
   "metadata": {},
   "source": [
    "Fitts' law is agnostic to the units of distance, because they cancel out in the equation. With UI design, a standard unit is a pixel. The predicted movement time is in seconds. Let's create a Fitts' law prediction for how a button width impacts movement time, when the distance between the origin of the pointing movement stays constant. You can explore how distance and the constants *a* and *b* impact predictions."
   ]
  },
  {
   "cell_type": "code",
   "execution_count": null,
   "id": "dc90c105-12eb-4f0b-a41b-20b87391d811",
   "metadata": {},
   "outputs": [],
   "source": [
    "import numpy as np\n",
    "import matplotlib.pyplot as plt\n",
    "\n",
    "# Fitts' Law function\n",
    "def fitts_law(D, W, a, b):\n",
    "    ID = np.log2(D / W + 1)  # Index of Difficulty\n",
    "    MT = a + b * ID\n",
    "    return MT\n",
    "\n",
    "# Constants (example values, should be determined empirically)\n",
    "a = 0.1\n",
    "b = 0.2\n",
    "\n",
    "# Fixed distance\n",
    "D = 1000  # example distance, you can adjust this\n",
    "\n",
    "# Generate a range of target widths\n",
    "target_widths = np.linspace(10, 600, 100)\n",
    "\n",
    "# Calculate movement times for each target width\n",
    "movement_times = [fitts_law(D, W, a, b) for W in target_widths]\n",
    "\n",
    "# Create the scatter plot\n",
    "plt.scatter(target_widths, movement_times)\n",
    "plt.title('Fitts\\' Law: Movement Time vs Target Width')\n",
    "plt.xlabel('Target Width (W)')\n",
    "plt.ylabel('Predicted Movement Time (s)')\n",
    "plt.grid(True)\n",
    "plt.show()"
   ]
  },
  {
   "cell_type": "markdown",
   "id": "dc77c452-7169-4c80-bcbe-c5465bcfe698",
   "metadata": {},
   "source": [
    "# Fitts' Law And UI Design\n",
    "\n",
    "Fitts' law can be directly used to predict movement times between UI elements, and summed to make predictions of trajectories. Let's create a simple code for creating mockup UIs and try out Fitts' law with it."
   ]
  },
  {
   "cell_type": "code",
   "execution_count": null,
   "id": "e1dc68a8-6b42-4fd3-b029-36157ed437d0",
   "metadata": {},
   "outputs": [],
   "source": [
    "%matplotlib inline\n",
    "\n",
    "import matplotlib.pyplot as plt\n",
    "import matplotlib.patches as patches\n",
    "from math import sqrt\n",
    "\n",
    "class element():\n",
    "    def __init__(self, name, x = 0, y = 0, x_size = 1, y_size = 1, color = \"blue\"):\n",
    "        self.name = name\n",
    "        self.x = x\n",
    "        self.y = y\n",
    "        self.x_size = x_size\n",
    "        self.y_size = y_size\n",
    "        self.color = color\n",
    "\n",
    "    def loc(self):\n",
    "        return [int(self.x+self.x_size/2), int(self.y+self.y_size/2)]\n",
    " \n",
    "    def get_size(self):\n",
    "        return min(self.x_size, self.y_size)\n",
    "\n",
    "    def distance_to(self, e):\n",
    "        loc1 = self.loc()\n",
    "        loc2 = e.loc()\n",
    "        return sqrt( (loc1[0] - loc2[0])**2 + (loc1[1] - loc2[1])**2 )\n",
    "\n",
    "def draw_ui(elements, x_size = 0, y_size = 0, fig_width = 20, fig_height = 20):\n",
    "    # Prepare plot\n",
    "    plt.style.use('classic')\n",
    "    fig, ax = plt.subplots()\n",
    "    # Figure out size\n",
    "    size_offset = 10    \n",
    "    for e in elements:\n",
    "        x_s = e.x + e.x_size + size_offset\n",
    "        if x_size < x_s:\n",
    "            x_size = x_s\n",
    "        y_s = e.y + e.y_size + size_offset\n",
    "        if y_size < y_s:\n",
    "            y_size = y_s\n",
    "    ax.set_xlim(0, x_size)\n",
    "    ax.set_ylim(0, y_size)\n",
    "    ax.invert_yaxis()\n",
    "    ax.set_aspect('equal', adjustable='box')\n",
    "    # Draw elements\n",
    "    for e in elements:\n",
    "        shape = patches.Rectangle((e.x, e.y), e.x_size, e.y_size, fc=e.color)\n",
    "        ax.add_patch(shape)\n",
    "        ax.text(e.x, e.y, str(e.name))\n",
    "    plt.show()"
   ]
  },
  {
   "cell_type": "code",
   "execution_count": null,
   "id": "3fdc837b-f527-410e-8d47-4e3994e7d0b2",
   "metadata": {
    "scrolled": true
   },
   "outputs": [],
   "source": [
    "# Make a simple UI of four elements.\n",
    "elements = [\n",
    "    element(\"logo\", x = 10, y = 10, x_size = 100, y_size = 100, color = \"blue\"),\n",
    "    element(\"search\", x = 500, y = 10, x_size = 100, y_size = 20, color = \"grey\"),\n",
    "    element(\"go\", x = 500, y = 200, x_size = 50, y_size = 50, color = \"red\")\n",
    "]\n",
    "draw_ui(elements)"
   ]
  },
  {
   "cell_type": "code",
   "execution_count": null,
   "id": "e149604b-c50b-454f-a9b9-2e1e883ae076",
   "metadata": {},
   "outputs": [],
   "source": [
    "# Create a wrapper for calculating Fitts' law between two elements: from element 1 to element 2.\n",
    "def fitts_mt(e1, e2, a = 0.1, b = 0.1):\n",
    "    D = e1.distance_to(e2)\n",
    "    W = e2.get_size()    \n",
    "    return fitts_law(D, W, a, b)\n",
    "\n",
    "def fitts_total_mt(elements, a = 0.1, b = 0.1):\n",
    "    mt = 0\n",
    "    for e in range(len(elements) - 1):\n",
    "        mt += fitts_mt(elements[e], elements[e+1], a, b)\n",
    "    return mt"
   ]
  },
  {
   "cell_type": "code",
   "execution_count": null,
   "id": "09265c14-383b-48f3-8c3d-08618f05ffbe",
   "metadata": {},
   "outputs": [],
   "source": [
    "# Calculate total movement time of pointing trajectory, starting from logo, going via search, and ending with go.\n",
    "fitts_total_mt(elements)"
   ]
  },
  {
   "cell_type": "markdown",
   "id": "11e6fa9f-a3ed-47f3-9d83-c1a8eb6ee0f9",
   "metadata": {},
   "source": [
    "With this general formulation of Fitts' law. We can investigate the impact of UI design (in this case, element size) on pointing time."
   ]
  },
  {
   "cell_type": "code",
   "execution_count": null,
   "id": "3bc41bfe-942c-4a58-af37-2cd3639cb522",
   "metadata": {},
   "outputs": [],
   "source": [
    "# make 'go' very small\n",
    "elements = [\n",
    "    element(\"logo\", x = 10, y = 10, x_size = 100, y_size = 100, color = \"blue\"),\n",
    "    element(\"search\", x = 500, y = 10, x_size = 1, y_size = 1, color = \"grey\"),\n",
    "    element(\"go\", x = 10, y = 200, x_size = 1, y_size = 1, color = \"red\")\n",
    "]\n",
    "draw_ui(elements)\n",
    "print(fitts_total_mt(elements))"
   ]
  },
  {
   "cell_type": "code",
   "execution_count": null,
   "id": "82c21cae-074a-4ed1-b538-c88f717af19a",
   "metadata": {},
   "outputs": [],
   "source": [
    "# make 'go' very small\n",
    "elements = [\n",
    "    element(\"logo\", x = 10, y = 10, x_size = 100, y_size = 100, color = \"blue\"),\n",
    "    element(\"search\", x = 200, y = 10, x_size = 100, y_size = 100, color = \"grey\"),\n",
    "    element(\"go\", x = 200, y = 120, x_size = 100, y_size = 100, color = \"red\")\n",
    "]\n",
    "draw_ui(elements)\n",
    "print(fitts_total_mt(elements))"
   ]
  },
  {
   "cell_type": "markdown",
   "id": "c5c6802f-38a9-4e19-9f6d-a78f74baa226",
   "metadata": {},
   "source": [
    "We can also use Fitts' law to calculate average time to a target, for instance assuming that pointing approaches the target uniformly from other UI elements."
   ]
  },
  {
   "cell_type": "code",
   "execution_count": null,
   "id": "20c7e964-5402-43e3-97c6-7b06c94d301b",
   "metadata": {},
   "outputs": [],
   "source": [
    "elements = [\n",
    "    element(\"logo\", x = 10, y = 10, x_size = 100, y_size = 100, color = \"blue\"),\n",
    "    element(\"header\", x = 150, y = 10, x_size = 300, y_size = 50, color = \"blue\"),\n",
    "    element(\"search\", x = 500, y = 10, x_size = 100, y_size = 20, color = \"grey\"),\n",
    "    element(\"go\", x = 500, y = 200, x_size = 50, y_size = 50, color = \"red\")\n",
    "]\n",
    "draw_ui(elements)\n",
    "fitts_total = 0\n",
    "for e in elements:\n",
    "    if e.name != \"go\":\n",
    "        # elements[-1] is the last element, which is \"go\"\n",
    "        fitts_total += fitts_mt(e, elements[-1])\n",
    "# Print average\n",
    "print(fitts_total/(len(elements)-1))"
   ]
  },
  {
   "cell_type": "markdown",
   "id": "9f51f177-f956-4b35-bcdf-23d0103275b1",
   "metadata": {},
   "source": [
    "# Fitts' Law Parameters\n",
    "\n",
    "The parameters $a$ and $b$ in Fitts' law are fitted to a particular device and user. The parameter $a$ is the intercept, and it implies that regardless of how difficult a task is (long distance, small target), there is always some overhead associated with pointing, such as motor preparation. The parmaeter $b$ controls the slope: the larger this parameter, the more impactful distance and target width are on movement time.\n",
    "\n",
    "For instance, we can simulate a user with motor trouble by increasing both parameter values."
   ]
  },
  {
   "cell_type": "code",
   "execution_count": null,
   "id": "8e914eaf-f5da-4b4a-8eb2-b12239ccbc9d",
   "metadata": {},
   "outputs": [],
   "source": [
    "print(fitts_total_mt(elements, a = 0.1, b = 0.1))\n",
    "print(fitts_total_mt(elements, a = 0.2, b = 0.2))"
   ]
  },
  {
   "cell_type": "markdown",
   "id": "3f9d76ab-20c5-4c2e-bb00-3a4ef271374d",
   "metadata": {},
   "source": [
    "# Information Processing in Fitts' Law\n",
    "\n",
    "Fitts' law views motor manipulations as transmission of information between the human decision maker and the interactive system. A human user, equipped with a device such as a mouse, keyboard, joystick, eye movement sensor, or even a some sort of a neural link, transmits information to the system according to an index of performance (IP). The units of IP is bits/s, meaning that the higher the IP, the more information is being transmitted in a second. The task itself has an index of difficuly (ID), which determines how many bits need to be transmitted before the task is completed. Therefore, given movement time (MT), we define $IP = ID/MT$. As index of performance, given a user and a device, stays approximately constant, we can infer that as the task becomes more difficult (IP increases), movement time must equally increase.\n",
    "\n",
    "We can treat all \"motor\" actions by the user as transmission of information. For instance, perhaps a successful command will require 128 bits of information (this can encode, e.g., a short sentence). The IP computed for the human hand in the original Fitts' experiment is about 10 bits/s. We can solve how long it takes to transmit one sentence with the hand:\n",
    "\n",
    "$ IP = ID/MT $,\n",
    "$ MT = ID/IP $,\n",
    "$ MT = 128 bits / 10 bits/s = 12.8s $.\n",
    "\n",
    "In many time-critical tasks, this is too long. Fortunately, we can immediately cut the transmission time in half by assuming that two fingers use the keyboard to type. If we can make efficient use of ten-finger touch typing, we can achieve a theoretical transmission time of $1.28s$. This is a theoretical lower limit: generally a sentence cannot be optimally divided among 10 fingers.\n"
   ]
  },
  {
   "cell_type": "markdown",
   "id": "de171bb9-c313-4630-8d29-54f6ab3894b2",
   "metadata": {},
   "source": [
    "# Assignment\n",
    "\n",
    "Create a mock-up of a UI you are designing. Investigate how Fitts' law predicts movement time to a key element in the UI from various other elements (or all of them on average). Create a scatterplot that shows how the size of the target element impacts movement time, and investigate the shape of the plot: at what size does more size increase really not pay off anymore?"
   ]
  },
  {
   "cell_type": "markdown",
   "id": "fd8cf6d7-be8d-4c4c-b8bf-17f5906a7bae",
   "metadata": {},
   "source": [
    "# Sources\n",
    "\n",
    "- A good overview of Fitts' law in HCI: MacKenzie, I. S. (1992). Fitts' law as a research and design tool in human-computer interaction. Human-computer interaction, 7(1), 91-139.\n",
    "- The original paper: Fitts, P. M. (1954). The information capacity of the human motor system in controlling the amplitude of movement. Journal of Experimental Psychology, 47, 381-391."
   ]
  },
  {
   "cell_type": "code",
   "execution_count": null,
   "id": "d7d2c89b-814d-4a66-b15a-a5e36fdb035d",
   "metadata": {},
   "outputs": [],
   "source": []
  }
 ],
 "metadata": {
  "kernelspec": {
   "display_name": "Python 3 (ipykernel)",
   "language": "python",
   "name": "python3"
  },
  "language_info": {
   "codemirror_mode": {
    "name": "ipython",
    "version": 3
   },
   "file_extension": ".py",
   "mimetype": "text/x-python",
   "name": "python",
   "nbconvert_exporter": "python",
   "pygments_lexer": "ipython3",
   "version": "3.12.3"
  }
 },
 "nbformat": 4,
 "nbformat_minor": 5
}
