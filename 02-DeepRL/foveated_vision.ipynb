{
 "cells": [
  {
   "attachments": {},
   "cell_type": "markdown",
   "id": "2847b331",
   "metadata": {},
   "source": [
    "[![Open In Colab](https://colab.research.google.com/assets/colab-badge.svg)](https://colab.research.google.com/github/howesa/CHI22-CogMod-Tutorial/blob/main/03-Reinforcement-Learning/foveated_vision.ipynb)\n"
   ]
  },
  {
   "attachments": {},
   "cell_type": "markdown",
   "id": "recovered-bottle",
   "metadata": {},
   "source": [
    "# Foveated vision\n",
    "\n",
    "Andrew Howes\n",
    "\n",
    "This notebook illustrates the effect of retinal eccentricity on spatial resolution and, therefore, on visual acuity in the human eye.\n",
    "\n",
    "<img src=\"https://raw.githubusercontent.com/howesa/CHI22-CogMod-Tutorial/main/03-Reinforcement-Learning/034_Gaze_based_Interaction/image/visual_acuity.png\" alt=\"Corati Modeling\" width=\"300\">\n",
    "\n",
    "(source: Geisler, W. S. (2011). Contributions of ideal observer theory to vision research. Vision research, 51(7), 771-781.)\n",
    "\n",
    "The retina is the layer of photoreceptors at the back of the eye that captures photons and transmits information to the brain. The fovea is a small depression in the middle of the retina with a particularly high density of photoreceptors. It is where visual acuity is highest. People use eye movements to bring the fovea to bear on locations about which they require more information.\n",
    "\n",
    "As retinal eccentricity from the fovea increases, visual acuity falls exponentially. By just 2.5 degrees of retinal eccentricity, acuity has fallen by 50%.\n",
    "\n",
    "As a consequence, our ability to estimate the location of an item on a display decreases exponentially with eccentricity from the fovea. The less accurate a target location estimate then the more diffcult it is to move the eyes to the target.\n",
    "\n",
    "In order to model this 'bound' on cognition, it is assumed that noise in location estimates increases with eccentricity and that the noise is Gaussian distributed.\n",
    "\n",
    "In order to start modeling let us first define some parameters."
   ]
  },
  {
   "cell_type": "code",
   "execution_count": null,
   "id": "homeless-young",
   "metadata": {},
   "outputs": [],
   "source": [
    "# fixed_noise is the noise at the fovea.\n",
    "fixed_noise = 2\n",
    "\n",
    "# the noise parameter determines how much noise increases with eccentricity\n",
    "noise_parameter = 0.25"
   ]
  },
  {
   "attachments": {},
   "cell_type": "markdown",
   "id": "0afe8d0b",
   "metadata": {},
   "source": [
    "### Import libraries\n",
    "\n",
    "Next we can import standard libraries for maths, statistics and plotting. "
   ]
  },
  {
   "cell_type": "code",
   "execution_count": null,
   "id": "growing-alarm",
   "metadata": {},
   "outputs": [],
   "source": [
    "import matplotlib.pyplot as plt\n",
    "import matplotlib as mpl\n",
    "import scipy.stats\n",
    "import numpy as np\n",
    "\n",
    "# set a style for the plots.\n",
    "\n",
    "mpl.style.use('fivethirtyeight')"
   ]
  },
  {
   "attachments": {},
   "cell_type": "markdown",
   "id": "f04c5865",
   "metadata": {},
   "source": [
    "### Plot\n",
    "\n",
    "Now we define a function that plots a Gaussian distribution. \n",
    "\n",
    "Below, we will use this function to represent the distribution of probable target locations given a noisy observation."
   ]
  },
  {
   "cell_type": "code",
   "execution_count": null,
   "id": "78d162ae",
   "metadata": {},
   "outputs": [],
   "source": [
    "def plot_gaussian(mean,sigma,fmt,label):\n",
    "    # plot a Gaussian distributed at 'mean' with standard deviation sigma.\n",
    "    # fmt provides a string of line parameters (colour etc.) and 'label' is a label for the plotted line.\n",
    "    x_min = mean-3*sigma\n",
    "    x_max = mean+3*sigma\n",
    "    x = np.linspace(x_min, x_max, 100)\n",
    "    y = scipy.stats.norm.pdf(x,mean,abs(sigma))\n",
    "    plt.xlim(-80,80)\n",
    "    plt.ylim(0,0.2)\n",
    "    plt.plot(x,y,fmt,label=label)\n"
   ]
  },
  {
   "cell_type": "code",
   "execution_count": null,
   "id": "d1119022",
   "metadata": {},
   "outputs": [],
   "source": [
    "\n",
    "eccentricity = np.arange(-60,70,20)\n",
    "\n",
    "plt.figure(figsize=(10,6))\n",
    "\n",
    "for i in eccentricity:\n",
    "    plot_gaussian(i, fixed_noise+abs(noise_parameter*i), 'g:',f'{i}')\n",
    "\n",
    "x = plt.xlabel('Eccentricity')"
   ]
  },
  {
   "attachments": {},
   "cell_type": "markdown",
   "id": "portable-accommodation",
   "metadata": {},
   "source": [
    "In the figure above it is assumed that the fovea (the gaze location) is at 0 eccentricity. Each distribution then represents the perceived target location probability given that the actual target location is at the centre of the distribution. \n",
    "\n",
    "So, for example, if the target is at eccentricity 60 then the probability of perceiving it at 60 is about 0.025, whereas if the target is at 20 then the probability of perceiving it at 20 is over 0.05.\n",
    "\n",
    "Parameter values do not represent the actual human acuity function and are for illustration only."
   ]
  },
  {
   "attachments": {},
   "cell_type": "markdown",
   "id": "metallic-gather",
   "metadata": {},
   "source": [
    "### Exercise\n",
    "\n",
    "- Build a Python model of human vision which returns the (stochastic) perceived location of a target given the true location.\n",
    "\n",
    "- Hint: \n",
    "    1. Use the numpy function random.uniform() to generate a target location between some lower and upper bound of eccentricity. \n",
    "    2. Use the eccentricity and the function random.normal() to generate an estimate of the target location.\n",
    "\n",
    "### Advanced exercises\n",
    "\n",
    "- Assume that the eyes are moved to the perceived location and a new observation is made of the target (which has not moved). Show, through simulated trials, how the error in the perceived location reduces as each successive observation is made.\n",
    "\n",
    "- Explain why the accuracy increases."
   ]
  }
 ],
 "metadata": {
  "kernelspec": {
   "display_name": "Python 3",
   "language": "python",
   "name": "python3"
  },
  "language_info": {
   "codemirror_mode": {
    "name": "ipython",
    "version": 3
   },
   "file_extension": ".py",
   "mimetype": "text/x-python",
   "name": "python",
   "nbconvert_exporter": "python",
   "pygments_lexer": "ipython3",
   "version": "3.8.8"
  }
 },
 "nbformat": 4,
 "nbformat_minor": 5
}
